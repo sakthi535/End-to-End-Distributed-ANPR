{
  "cells": [
    {
      "cell_type": "code",
      "execution_count": 1,
      "metadata": {
        "colab": {
          "base_uri": "https://localhost:8080/"
        },
        "id": "grCLkdgIK0zr",
        "outputId": "296f800f-5a86-4f26-c669-af8598052a83"
      },
      "outputs": [
        {
          "output_type": "stream",
          "name": "stdout",
          "text": [
            "Mounted at /content/gdrive\n"
          ]
        }
      ],
      "source": [
        "from google.colab import drive\n",
        "drive.mount(\"/content/gdrive\")"
      ]
    },
    {
      "cell_type": "code",
      "execution_count": 2,
      "metadata": {
        "colab": {
          "base_uri": "https://localhost:8080/"
        },
        "id": "ST1zLCfuK4MX",
        "outputId": "6cabcc43-0d6c-4ba8-cb39-3a99adc53b0b"
      },
      "outputs": [
        {
          "output_type": "stream",
          "name": "stdout",
          "text": [
            "/content\n"
          ]
        }
      ],
      "source": [
        "!pwd"
      ]
    },
    {
      "cell_type": "code",
      "execution_count": 2,
      "metadata": {
        "colab": {
          "base_uri": "https://localhost:8080/"
        },
        "id": "MnGbc-HHLNhz",
        "outputId": "a6d080ec-809b-4e5c-e06d-a22ed0d0f6b4"
      },
      "outputs": [
        {
          "output_type": "stream",
          "name": "stdout",
          "text": [
            "/content/gdrive/MyDrive/YOLOFirst/yolov7\n"
          ]
        }
      ],
      "source": [
        "%cd gdrive/MyDrive/YOLOFirst/yolov7"
      ]
    },
    {
      "cell_type": "code",
      "execution_count": 7,
      "metadata": {
        "colab": {
          "base_uri": "https://localhost:8080/"
        },
        "id": "T05nWgntLZMU",
        "outputId": "ff532387-6d66-449c-b0c3-a5a7fca36e47"
      },
      "outputs": [
        {
          "output_type": "stream",
          "name": "stdout",
          "text": [
            "Namespace(weights=['/content/gdrive/MyDrive/YOLOFirst/yolov7/yolov7x.pt'], source='t3.png', img_size=640, conf_thres=0.5, iou_thres=0.45, device='', view_img=False, save_txt=True, save_conf=False, nosave=False, classes=None, agnostic_nms=False, augment=False, update=False, project='runs/detect', name='exp', exist_ok=False, no_trace=True)\n",
            "YOLOR 🚀 v0.1-116-g8c0bf3f torch 1.13.1+cu116 CUDA:0 (Tesla T4, 15101.8125MB)\n",
            "\n",
            "Downloading https://github.com/WongKinYiu/yolov7/releases/download/v0.1/yolov7x.pt to /content/gdrive/mydrive/yolofirst/yolov7/yolov7x.pt...\n",
            "Download error: [Errno 2] No such file or directory: '/content/gdrive/mydrive/yolofirst/yolov7/tmpv5_l5oa_'\n",
            "ERROR: Download failure: /content/gdrive/mydrive/yolofirst/yolov7/yolov7x.pt missing, try downloading from https://github.com/WongKinYiu/yolov7/releases/\n",
            "\n",
            "Fusing layers... \n",
            "Model Summary: 354 layers, 71311741 parameters, 571965 gradients\n",
            "/usr/local/lib/python3.9/dist-packages/torch/functional.py:504: UserWarning: torch.meshgrid: in an upcoming release, it will be required to pass the indexing argument. (Triggered internally at ../aten/src/ATen/native/TensorShape.cpp:3190.)\n",
            "  return _VF.meshgrid(tensors, **kwargs)  # type: ignore[attr-defined]\n",
            "1 person, 4 cars, Done. (31.1ms) Inference, (2.3ms) NMS\n",
            " The image with the result is saved in: runs/detect/exp24/t3.png\n",
            "Done. (0.364s)\n"
          ]
        }
      ],
      "source": [
        "!python detect.py --weights /content/gdrive/MyDrive/YOLOFirst/yolov7/yolov7x.pt --conf 0.5 --img-size 640 --source t3.png --no-trace --save-txt"
      ]
    },
    {
      "cell_type": "code",
      "source": [
        "!python detect.py --weights runs/train/yolov7x-custom_data3/weights/best.pt --conf 0.5 --img-size 640 --source t3.png --no-trace --save-txt"
      ],
      "metadata": {
        "id": "LZ_5_oQTXpcP"
      },
      "execution_count": null,
      "outputs": []
    },
    {
      "cell_type": "code",
      "execution_count": null,
      "metadata": {
        "colab": {
          "base_uri": "https://localhost:8080/"
        },
        "id": "Utne3EoVbqPT",
        "outputId": "a10d262a-c049-44d1-df05-dc533d35accc"
      },
      "outputs": [
        {
          "name": "stdout",
          "output_type": "stream",
          "text": [
            "/content/gdrive/MyDrive/YOLOFirst/yolov7\n"
          ]
        }
      ],
      "source": [
        "%cd ../../"
      ]
    },
    {
      "cell_type": "code",
      "execution_count": null,
      "metadata": {
        "colab": {
          "base_uri": "https://localhost:8080/"
        },
        "id": "ftNAKMnCba3B",
        "outputId": "a4d31fb8-0ffe-4018-f37a-9dca71fe4230"
      },
      "outputs": [
        {
          "name": "stdout",
          "output_type": "stream",
          "text": [
            "Namespace(agnostic_nms=False, augment=False, classes=None, conf_thres=0.5, device='', exist_ok=False, img_size=640, iou_thres=0.45, name='exp', no_trace=True, nosave=False, project='runs/detect', save_conf=False, save_txt=True, source='t4.png', update=False, view_img=False, weights=['runs/train/yolov7x-custom_data3/weights/best.pt'])\n",
            "YOLOR 🚀 v0.1-116-g8c0bf3f torch 1.13.0+cu116 CPU\n",
            "\n",
            "Fusing layers... \n",
            "IDetect.fuse\n",
            "Model Summary: 362 layers, 70782444 parameters, 0 gradients\n",
            "/usr/local/lib/python3.8/dist-packages/torch/functional.py:504: UserWarning: torch.meshgrid: in an upcoming release, it will be required to pass the indexing argument. (Triggered internally at ../aten/src/ATen/native/TensorShape.cpp:3190.)\n",
            "  return _VF.meshgrid(tensors, **kwargs)  # type: ignore[attr-defined]\n",
            "1 License Plate, Done. (3268.2ms) Inference, (1.8ms) NMS\n",
            " The image with the result is saved in: runs/detect/exp16/t4.png\n",
            "Done. (3.301s)\n",
            "Namespace(agnostic_nms=False, augment=False, classes=None, conf_thres=0.5, device='', exist_ok=False, img_size=640, iou_thres=0.45, name='exp', no_trace=True, nosave=False, project='runs/detect', save_conf=False, save_txt=True, source='t5.png', update=False, view_img=False, weights=['runs/train/yolov7x-custom_data3/weights/best.pt'])\n",
            "YOLOR 🚀 v0.1-116-g8c0bf3f torch 1.13.0+cu116 CPU\n",
            "\n",
            "Fusing layers... \n",
            "IDetect.fuse\n",
            "Model Summary: 362 layers, 70782444 parameters, 0 gradients\n",
            "/usr/local/lib/python3.8/dist-packages/torch/functional.py:504: UserWarning: torch.meshgrid: in an upcoming release, it will be required to pass the indexing argument. (Triggered internally at ../aten/src/ATen/native/TensorShape.cpp:3190.)\n",
            "  return _VF.meshgrid(tensors, **kwargs)  # type: ignore[attr-defined]\n",
            "1 License Plate, Done. (2869.5ms) Inference, (0.9ms) NMS\n",
            " The image with the result is saved in: runs/detect/exp17/t5.png\n",
            "Done. (2.898s)\n"
          ]
        }
      ],
      "source": [
        "!python detect.py --weights runs/train/yolov7x-custom_data3/weights/best.pt --conf 0.5 --img-size 640 --source t4.png --no-trace --save-txt\n",
        "!python detect.py --weights runs/train/yolov7x-custom_data3/weights/best.pt --conf 0.5 --img-size 640 --source t5.png --no-trace --save-txt"
      ]
    },
    {
      "cell_type": "code",
      "execution_count": null,
      "metadata": {
        "colab": {
          "base_uri": "https://localhost:8080/"
        },
        "id": "5Ln8emIBQYxZ",
        "outputId": "4425e88a-8f90-4d28-c9f1-363d57c70d53"
      },
      "outputs": [
        {
          "name": "stdout",
          "output_type": "stream",
          "text": [
            "/content/gdrive/MyDrive/YOLOFirst/yolov7/runs/detect/exp13\n"
          ]
        }
      ],
      "source": [
        "# %cd runs/detect/exp13/\n",
        "%cd .."
      ]
    },
    {
      "cell_type": "code",
      "execution_count": null,
      "metadata": {
        "colab": {
          "base_uri": "https://localhost:8080/"
        },
        "id": "_MNGrXqaY_bT",
        "outputId": "03759dfe-e614-47be-95f6-42d98dda5e64"
      },
      "outputs": [
        {
          "name": "stdout",
          "output_type": "stream",
          "text": [
            "Namespace(agnostic_nms=False, augment=False, classes=None, conf_thres=0.5, device='', exist_ok=False, img_size=640, iou_thres=0.45, name='exp', no_trace=True, nosave=False, project='runs/detect', save_conf=False, save_txt=True, source='test-now-e.jpg', update=False, view_img=False, weights=['runs/train/yolov7x-custom_data3/weights/best.pt'])\n",
            "YOLOR 🚀 v0.1-116-g8c0bf3f torch 1.13.1+cu116 CUDA:0 (Tesla T4, 15109.875MB)\n",
            "\n",
            "Fusing layers... \n",
            "IDetect.fuse\n",
            "Model Summary: 362 layers, 70782444 parameters, 0 gradients\n",
            "/usr/local/lib/python3.8/dist-packages/torch/functional.py:504: UserWarning: torch.meshgrid: in an upcoming release, it will be required to pass the indexing argument. (Triggered internally at ../aten/src/ATen/native/TensorShape.cpp:3190.)\n",
            "  return _VF.meshgrid(tensors, **kwargs)  # type: ignore[attr-defined]\n",
            "1 License Plate, Done. (31.1ms) Inference, (37.0ms) NMS\n",
            " The image with the result is saved in: runs/detect/exp22/test-now-e.jpg\n",
            "Done. (0.488s)\n"
          ]
        }
      ],
      "source": [
        "!python detect.py --weights runs/train/yolov7x-custom_data3/weights/best.pt --conf 0.5 --img-size 640 --source test-now-e.jpg --no-trace --save-txt"
      ]
    },
    {
      "cell_type": "code",
      "source": [
        "!python detect.py --weights runs/train/yolov7x-custom_data3/weights/best.pt --conf 0.5 --img-size 640 --source Cars11.png --no-trace --save-txt"
      ],
      "metadata": {
        "colab": {
          "base_uri": "https://localhost:8080/"
        },
        "id": "X1JF2AgkEyJi",
        "outputId": "dce94e83-0743-4e4d-ee17-711088608939"
      },
      "execution_count": 15,
      "outputs": [
        {
          "output_type": "stream",
          "name": "stdout",
          "text": [
            "Namespace(weights=['runs/train/yolov7x-custom_data3/weights/best.pt'], source='Cars11.png', img_size=640, conf_thres=0.5, iou_thres=0.45, device='', view_img=False, save_txt=True, save_conf=False, nosave=False, classes=None, agnostic_nms=False, augment=False, update=False, project='runs/detect', name='exp', exist_ok=False, no_trace=True)\n",
            "YOLOR 🚀 v0.1-116-g8c0bf3f torch 1.13.1+cu116 CUDA:0 (Tesla T4, 15101.8125MB)\n",
            "\n",
            "Fusing layers... \n",
            "IDetect.fuse\n",
            "Model Summary: 362 layers, 70782444 parameters, 0 gradients\n",
            "/usr/local/lib/python3.9/dist-packages/torch/functional.py:504: UserWarning: torch.meshgrid: in an upcoming release, it will be required to pass the indexing argument. (Triggered internally at ../aten/src/ATen/native/TensorShape.cpp:3190.)\n",
            "  return _VF.meshgrid(tensors, **kwargs)  # type: ignore[attr-defined]\n",
            "1 License Plate, Done. (31.2ms) Inference, (17.9ms) NMS\n",
            " The image with the result is saved in: runs/detect/exp27/Cars11.png\n",
            "Done. (0.302s)\n"
          ]
        }
      ]
    },
    {
      "cell_type": "code",
      "source": [
        "!python detect.py --weights runs/train/yolov7x-custom_data3/weights/best.pt --conf 0.5 --img-size 640 --source Cars201.png --no-trace --save-txt"
      ],
      "metadata": {
        "colab": {
          "base_uri": "https://localhost:8080/"
        },
        "id": "V0S0b7uPHkc7",
        "outputId": "178e3815-fc04-4c59-ff34-6b573b3792f5"
      },
      "execution_count": 20,
      "outputs": [
        {
          "output_type": "stream",
          "name": "stdout",
          "text": [
            "Namespace(weights=['runs/train/yolov7x-custom_data3/weights/best.pt'], source='Cars201.png', img_size=640, conf_thres=0.5, iou_thres=0.45, device='', view_img=False, save_txt=True, save_conf=False, nosave=False, classes=None, agnostic_nms=False, augment=False, update=False, project='runs/detect', name='exp', exist_ok=False, no_trace=True)\n",
            "YOLOR 🚀 v0.1-116-g8c0bf3f torch 1.13.1+cu116 CUDA:0 (Tesla T4, 15101.8125MB)\n",
            "\n",
            "Fusing layers... \n",
            "IDetect.fuse\n",
            "Model Summary: 362 layers, 70782444 parameters, 0 gradients\n",
            "/usr/local/lib/python3.9/dist-packages/torch/functional.py:504: UserWarning: torch.meshgrid: in an upcoming release, it will be required to pass the indexing argument. (Triggered internally at ../aten/src/ATen/native/TensorShape.cpp:3190.)\n",
            "  return _VF.meshgrid(tensors, **kwargs)  # type: ignore[attr-defined]\n",
            "1 License Plate, Done. (26.0ms) Inference, (1.6ms) NMS\n",
            " The image with the result is saved in: runs/detect/exp30/Cars201.png\n",
            "Done. (0.235s)\n"
          ]
        }
      ]
    },
    {
      "cell_type": "code",
      "execution_count": null,
      "metadata": {
        "colab": {
          "base_uri": "https://localhost:8080/"
        },
        "id": "f_R05oD6QtZv",
        "outputId": "3fcc36b9-26b4-4fb3-b17c-7e4181fca613"
      },
      "outputs": [
        {
          "name": "stdout",
          "output_type": "stream",
          "text": [
            "[['0', '0.744868', '0.45671', '0.0527859', '0.038961'], ['0', '0.402493', '0.694805', '0.0718475', '0.0519481']]\n"
          ]
        }
      ],
      "source": [
        "frameName = \"t3\"\n",
        "f = open(f\"labels/{frameName}.txt\", \"r\")\n",
        "l = []\n",
        "for x in f:\n",
        "  l.append(x.split())\n",
        "print(l)"
      ]
    },
    {
      "cell_type": "code",
      "execution_count": null,
      "metadata": {
        "colab": {
          "base_uri": "https://localhost:8080/"
        },
        "id": "5mS6T5XyR45n",
        "outputId": "b596cb35-c9de-4230-e26c-22c664ce8548"
      },
      "outputs": [
        {
          "name": "stdout",
          "output_type": "stream",
          "text": [
            "labels\tt3.png\n"
          ]
        }
      ],
      "source": [
        "!ls"
      ]
    },
    {
      "cell_type": "code",
      "execution_count": null,
      "metadata": {
        "id": "Z4By9dIrU8yR"
      },
      "outputs": [],
      "source": [
        "import cv2\n",
        "from google.colab.patches import cv2_imshow\n",
        "img = cv2.imread(f\"{frameName}.png\")"
      ]
    },
    {
      "cell_type": "code",
      "execution_count": null,
      "metadata": {
        "colab": {
          "base_uri": "https://localhost:8080/"
        },
        "id": "ECwT9HuTVFHB",
        "outputId": "23b4fcac-7ed7-4453-c85d-f007e7baab64"
      },
      "outputs": [
        {
          "name": "stdout",
          "output_type": "stream",
          "text": [
            "(462, 682, 3)\n"
          ]
        }
      ],
      "source": [
        "(x,y,z) = img.shape\n",
        "print((x,y,z))"
      ]
    },
    {
      "cell_type": "code",
      "execution_count": null,
      "metadata": {
        "id": "5O5MPNl0ST4a"
      },
      "outputs": [],
      "source": [
        "if(len(l)>0):\n",
        "  licenseObj = l[0]\n",
        "else:\n",
        "  licenseObj = None\n",
        "x_min = int(float(licenseObj[1])*y)\n",
        "w = int(float(licenseObj[3])*y)\n",
        "y_min = (float(licenseObj[2])*x)\n",
        "h = int(float(licenseObj[4])*x)"
      ]
    },
    {
      "cell_type": "code",
      "execution_count": null,
      "metadata": {
        "colab": {
          "base_uri": "https://localhost:8080/"
        },
        "id": "tFbJ47J4T4EG",
        "outputId": "bcb0294f-4f71-4fb3-f03f-9b64a99de84f"
      },
      "outputs": [
        {
          "data": {
            "text/plain": [
              "(274, 320, 48, 24)"
            ]
          },
          "execution_count": 62,
          "metadata": {},
          "output_type": "execute_result"
        }
      ],
      "source": [
        "(x_min, y_min, w, h)"
      ]
    },
    {
      "cell_type": "code",
      "execution_count": null,
      "metadata": {
        "colab": {
          "base_uri": "https://localhost:8080/",
          "height": 41
        },
        "id": "5sdIUGhuLaRL",
        "outputId": "d0c67d12-bd94-4646-c9ae-23816a8dc772"
      },
      "outputs": [
        {
          "data": {
            "image/png": "[encoded data removed]",
            "text/plain": [
              "<PIL.Image.Image image mode=RGB size=48x24 at 0x7F35ED8E87C0>"
            ]
          },
          "metadata": {},
          "output_type": "display_data"
        }
      ],
      "source": [
        "crop_img = img[y_min-h//2:y_min+h//2, x_min-w//2:x_min+w//2]\n",
        "cv2_imshow(crop_img)"
      ]
    },
    {
      "cell_type": "code",
      "execution_count": null,
      "metadata": {
        "colab": {
          "base_uri": "https://localhost:8080/"
        },
        "id": "qxoeBLcTaEIU",
        "outputId": "8178da75-20eb-4782-9775-70affdb4dcc2"
      },
      "outputs": [
        {
          "name": "stdout",
          "output_type": "stream",
          "text": [
            "/content/gdrive/MyDrive/YOLOFirst/yolov7\n"
          ]
        }
      ],
      "source": [
        "%cd yolov7"
      ]
    },
    {
      "cell_type": "code",
      "execution_count": 7,
      "metadata": {
        "id": "wDet6IBVReGJ"
      },
      "outputs": [],
      "source": [
        "import cv2\n",
        "from google.colab.patches import cv2_imshow\n",
        "\n",
        "def cropShowImage(expNo, frameName, fileName):\n",
        "  f = open(f\"runs/detect/exp{expNo}/labels/{frameName}.txt\", \"r\")\n",
        "  platesDetected = []\n",
        "  for x in f:\n",
        "    platesDetected.append(x.split())\n",
        "  # print(l)\n",
        "\n",
        "  for plate in platesDetected:\n",
        "    img = cv2.imread(f\"runs/detect/exp{expNo}/{fileName}\")\n",
        "    (x,y,z) = img.shape\n",
        "\n",
        "    x_min = int(float(plate[1])*y)\n",
        "    w = int(float(plate[3])*y)\n",
        "    y_min = int(float(plate[2])*x)\n",
        "    h = int(float(plate[4])*x)\n",
        "\n",
        "    crop_img = img[y_min-h//2:y_min+h//2, x_min-w//2:x_min+w//2]\n",
        "    cv2_imshow(crop_img)\n",
        "\n",
        "    cv2.imwrite(f\"file_{frameName}.jpg\", crop_img)\n"
      ]
    },
    {
      "cell_type": "code",
      "execution_count": 10,
      "metadata": {
        "colab": {
          "base_uri": "https://localhost:8080/",
          "height": 58
        },
        "id": "xMGy6vfWa3i5",
        "outputId": "7b3ab181-99c5-4b7d-f373-e2e38acc46c3"
      },
      "outputs": [
        {
          "output_type": "display_data",
          "data": {
            "text/plain": [
              "<PIL.Image.Image image mode=RGB size=34x16 at 0x7FD797B64EE0>"
            ],
            "image/png": "[encoded data removed]"
          },
          "metadata": {}
        },
        {
          "output_type": "display_data",
          "data": {
            "text/plain": [
              "<PIL.Image.Image image mode=RGB size=48x24 at 0x7FD7A730F6A0>"
            ],
            "image/png": "[encoded data removed]"
          },
          "metadata": {}
        }
      ],
      "source": [
        "cropShowImage(13, \"t3\", \"t3.png\")"
      ]
    },
    {
      "cell_type": "code",
      "source": [
        "cropShowImage(14, \"t4\", \"t4.png\")"
      ],
      "metadata": {
        "colab": {
          "base_uri": "https://localhost:8080/",
          "height": 37
        },
        "id": "pklJvjUJ7qxO",
        "outputId": "c1f2d169-23a3-4061-bd79-c0aefc35aebc"
      },
      "execution_count": 11,
      "outputs": [
        {
          "output_type": "display_data",
          "data": {
            "text/plain": [
              "<PIL.Image.Image image mode=RGB size=48x20 at 0x7FD7CC177610>"
            ],
            "image/png": "[encoded data removed]"
          },
          "metadata": {}
        }
      ]
    },
    {
      "cell_type": "code",
      "source": [
        "cropShowImage(22, \"test-now-e\", \"test-now-e.jpg\")"
      ],
      "metadata": {
        "colab": {
          "base_uri": "https://localhost:8080/",
          "height": 55
        },
        "id": "QGeOdPku7wYT",
        "outputId": "b2b82de5-36e3-4cd6-d326-653c5a0bce50"
      },
      "execution_count": 13,
      "outputs": [
        {
          "output_type": "display_data",
          "data": {
            "text/plain": [
              "<PIL.Image.Image image mode=RGB size=112x38 at 0x7FD7C708B880>"
            ],
            "image/png": "[encoded data removed]"
          },
          "metadata": {}
        }
      ]
    },
    {
      "cell_type": "code",
      "source": [
        "cropShowImage(27, \"Cars11\", \"Cars11.png\")"
      ],
      "metadata": {
        "colab": {
          "base_uri": "https://localhost:8080/",
          "height": 47
        },
        "id": "7XMB1GytFGy4",
        "outputId": "0b32f3bb-a5a7-43b1-f64b-566b52e3c912"
      },
      "execution_count": 16,
      "outputs": [
        {
          "output_type": "display_data",
          "data": {
            "text/plain": [
              "<PIL.Image.Image image mode=RGB size=162x30 at 0x7FD797A75550>"
            ],
            "image/png": "[encoded data removed]"
          },
          "metadata": {}
        }
      ]
    },
    {
      "cell_type": "code",
      "source": [
        "cropShowImage(30, \"Cars201\", \"Cars201.png\")"
      ],
      "metadata": {
        "colab": {
          "base_uri": "https://localhost:8080/",
          "height": 45
        },
        "id": "VQea4VChHtUJ",
        "outputId": "a5175787-b9e5-43d0-8a62-457e24dc756e"
      },
      "execution_count": 21,
      "outputs": [
        {
          "output_type": "display_data",
          "data": {
            "text/plain": [
              "<PIL.Image.Image image mode=RGB size=140x28 at 0x7FD797A75A30>"
            ],
            "image/png": "[encoded data removed]"
          },
          "metadata": {}
        }
      ]
    },
    {
      "cell_type": "code",
      "execution_count": null,
      "metadata": {
        "colab": {
          "base_uri": "https://localhost:8080/"
        },
        "id": "QJix4a5ia-M8",
        "outputId": "ccb2cb25-b1a5-44cb-ca1c-d985436fcbcc"
      },
      "outputs": [
        {
          "name": "stdout",
          "output_type": "stream",
          "text": [
            "Namespace(augment=False, batch_size=32, conf_thres=0.001, data='data/custom_data.yaml', device='0', exist_ok=False, img_size=640, iou_thres=0.65, name='yolov7x-custom_data', no_trace=False, project='runs/test', save_conf=False, save_hybrid=False, save_json=False, save_txt=False, single_cls=False, task='val', v5_metric=False, verbose=False, weights=['runs/train/yolov7x-custom_data3/weights/best.pt'])\n",
            "YOLOR 🚀 v0.1-116-g8c0bf3f torch 1.13.1+cu116 CUDA:0 (Tesla T4, 15109.875MB)\n",
            "\n",
            "Fusing layers... \n",
            "IDetect.fuse\n",
            "Model Summary: 362 layers, 70782444 parameters, 0 gradients\n",
            " Convert model to Traced-model... \n",
            " traced_script_module saved! \n",
            " model is traced! \n",
            "\n",
            "/usr/local/lib/python3.8/dist-packages/torch/functional.py:504: UserWarning: torch.meshgrid: in an upcoming release, it will be required to pass the indexing argument. (Triggered internally at ../aten/src/ATen/native/TensorShape.cpp:3190.)\n",
            "  return _VF.meshgrid(tensors, **kwargs)  # type: ignore[attr-defined]\n",
            "\u001b[34m\u001b[1mval: \u001b[0mScanning 'data/val/labels.cache' images and labels... 93 found, 0 missing, 0 empty, 0 corrupted: 100% 93/93 [00:00<?, ?it/s]\n",
            "               Class      Images      Labels           P           R      mAP@.5  mAP@.5:.95: 100% 3/3 [00:03<00:00,  1.26s/it]\n",
            "                 all          93          98       0.957       0.918       0.966       0.594\n",
            "Speed: 21.5/1.7/23.1 ms inference/NMS/total per 640x640 image at batch-size 32\n",
            "Results saved to runs/test/yolov7x-custom_data2\n"
          ]
        }
      ],
      "source": [
        "!python test.py --data data/custom_data.yaml --img 640 --batch 32 --conf 0.001 --iou 0.65 --device 0 --weights runs/train/yolov7x-custom_data3/weights/best.pt --name yolov7x-custom_data"
      ]
    },
    {
      "cell_type": "code",
      "execution_count": null,
      "metadata": {
        "colab": {
          "base_uri": "https://localhost:8080/",
          "height": 55
        },
        "id": "clrnnNZCyfDc",
        "outputId": "a31f04b7-2076-40fe-eaca-7c0112f30059"
      },
      "outputs": [
        {
          "data": {
            "image/png": "[encoded data removed]",
            "text/plain": [
              "<PIL.Image.Image image mode=RGB size=112x38 at 0x7F5E5639B160>"
            ]
          },
          "metadata": {},
          "output_type": "display_data"
        }
      ],
      "source": [
        "cropShowImage(22, \"test-now-e\", \"test-now-e.jpg\")"
      ]
    },
    {
      "cell_type": "code",
      "execution_count": 4,
      "metadata": {
        "id": "1SDM_8kqNe9d",
        "colab": {
          "base_uri": "https://localhost:8080/"
        },
        "outputId": "ef386089-d472-43fe-dee8-5992ea936317"
      },
      "outputs": [
        {
          "output_type": "stream",
          "name": "stdout",
          "text": [
            "Namespace(weights=['runs/train/yolov7x-custom_data3/weights/best.pt'], source='mountain-129241.mp4', img_size=640, conf_thres=0.5, iou_thres=0.45, device='', view_img=False, save_txt=True, save_conf=False, nosave=False, classes=None, agnostic_nms=False, augment=False, update=False, project='runs/detect', name='exp', exist_ok=False, no_trace=True)\n",
            "YOLOR 🚀 v0.1-116-g8c0bf3f torch 1.13.1+cu116 CUDA:0 (Tesla T4, 15101.8125MB)\n",
            "\n",
            "Fusing layers... \n",
            "IDetect.fuse\n",
            "Model Summary: 362 layers, 70782444 parameters, 0 gradients\n",
            "/usr/local/lib/python3.9/dist-packages/torch/functional.py:504: UserWarning: torch.meshgrid: in an upcoming release, it will be required to pass the indexing argument. (Triggered internally at ../aten/src/ATen/native/TensorShape.cpp:3190.)\n",
            "  return _VF.meshgrid(tensors, **kwargs)  # type: ignore[attr-defined]\n",
            "video 1/1 (1/331) /content/gdrive/MyDrive/YOLOFirst/yolov7/mountain-129241.mp4: Done. (26.0ms) Inference, (15.1ms) NMS\n",
            "video 1/1 (2/331) /content/gdrive/MyDrive/YOLOFirst/yolov7/mountain-129241.mp4: Done. (23.4ms) Inference, (0.3ms) NMS\n",
            "video 1/1 (3/331) /content/gdrive/MyDrive/YOLOFirst/yolov7/mountain-129241.mp4: Done. (23.4ms) Inference, (0.3ms) NMS\n",
            "video 1/1 (4/331) /content/gdrive/MyDrive/YOLOFirst/yolov7/mountain-129241.mp4: Done. (23.3ms) Inference, (0.3ms) NMS\n",
            "video 1/1 (5/331) /content/gdrive/MyDrive/YOLOFirst/yolov7/mountain-129241.mp4: Done. (23.3ms) Inference, (0.3ms) NMS\n",
            "video 1/1 (6/331) /content/gdrive/MyDrive/YOLOFirst/yolov7/mountain-129241.mp4: Done. (23.3ms) Inference, (0.3ms) NMS\n",
            "video 1/1 (7/331) /content/gdrive/MyDrive/YOLOFirst/yolov7/mountain-129241.mp4: Done. (21.5ms) Inference, (0.2ms) NMS\n",
            "video 1/1 (8/331) /content/gdrive/MyDrive/YOLOFirst/yolov7/mountain-129241.mp4: Done. (19.7ms) Inference, (0.2ms) NMS\n",
            "video 1/1 (9/331) /content/gdrive/MyDrive/YOLOFirst/yolov7/mountain-129241.mp4: Done. (22.4ms) Inference, (0.2ms) NMS\n",
            "video 1/1 (10/331) /content/gdrive/MyDrive/YOLOFirst/yolov7/mountain-129241.mp4: Done. (18.7ms) Inference, (0.2ms) NMS\n",
            "video 1/1 (11/331) /content/gdrive/MyDrive/YOLOFirst/yolov7/mountain-129241.mp4: Done. (20.6ms) Inference, (0.2ms) NMS\n",
            "video 1/1 (12/331) /content/gdrive/MyDrive/YOLOFirst/yolov7/mountain-129241.mp4: Done. (19.4ms) Inference, (0.2ms) NMS\n",
            "video 1/1 (13/331) /content/gdrive/MyDrive/YOLOFirst/yolov7/mountain-129241.mp4: Done. (21.3ms) Inference, (0.2ms) NMS\n",
            "video 1/1 (14/331) /content/gdrive/MyDrive/YOLOFirst/yolov7/mountain-129241.mp4: Done. (19.4ms) Inference, (0.3ms) NMS\n",
            "video 1/1 (15/331) /content/gdrive/MyDrive/YOLOFirst/yolov7/mountain-129241.mp4: Done. (22.1ms) Inference, (0.2ms) NMS\n",
            "video 1/1 (16/331) /content/gdrive/MyDrive/YOLOFirst/yolov7/mountain-129241.mp4: Done. (19.5ms) Inference, (0.2ms) NMS\n",
            "video 1/1 (17/331) /content/gdrive/MyDrive/YOLOFirst/yolov7/mountain-129241.mp4: Done. (19.6ms) Inference, (0.2ms) NMS\n",
            "video 1/1 (18/331) /content/gdrive/MyDrive/YOLOFirst/yolov7/mountain-129241.mp4: Done. (19.5ms) Inference, (0.2ms) NMS\n",
            "video 1/1 (19/331) /content/gdrive/MyDrive/YOLOFirst/yolov7/mountain-129241.mp4: Done. (24.0ms) Inference, (0.3ms) NMS\n",
            "video 1/1 (20/331) /content/gdrive/MyDrive/YOLOFirst/yolov7/mountain-129241.mp4: Done. (19.6ms) Inference, (0.2ms) NMS\n",
            "video 1/1 (21/331) /content/gdrive/MyDrive/YOLOFirst/yolov7/mountain-129241.mp4: Done. (19.3ms) Inference, (0.2ms) NMS\n",
            "video 1/1 (22/331) /content/gdrive/MyDrive/YOLOFirst/yolov7/mountain-129241.mp4: Done. (18.7ms) Inference, (0.2ms) NMS\n",
            "video 1/1 (23/331) /content/gdrive/MyDrive/YOLOFirst/yolov7/mountain-129241.mp4: Done. (23.1ms) Inference, (0.2ms) NMS\n",
            "video 1/1 (24/331) /content/gdrive/MyDrive/YOLOFirst/yolov7/mountain-129241.mp4: Done. (19.3ms) Inference, (0.2ms) NMS\n",
            "video 1/1 (25/331) /content/gdrive/MyDrive/YOLOFirst/yolov7/mountain-129241.mp4: Done. (19.2ms) Inference, (0.2ms) NMS\n",
            "video 1/1 (26/331) /content/gdrive/MyDrive/YOLOFirst/yolov7/mountain-129241.mp4: Done. (19.9ms) Inference, (0.2ms) NMS\n",
            "video 1/1 (27/331) /content/gdrive/MyDrive/YOLOFirst/yolov7/mountain-129241.mp4: Done. (20.7ms) Inference, (0.2ms) NMS\n",
            "video 1/1 (28/331) /content/gdrive/MyDrive/YOLOFirst/yolov7/mountain-129241.mp4: Done. (22.6ms) Inference, (0.2ms) NMS\n",
            "video 1/1 (29/331) /content/gdrive/MyDrive/YOLOFirst/yolov7/mountain-129241.mp4: Done. (19.2ms) Inference, (0.2ms) NMS\n",
            "video 1/1 (30/331) /content/gdrive/MyDrive/YOLOFirst/yolov7/mountain-129241.mp4: Done. (19.4ms) Inference, (0.2ms) NMS\n",
            "video 1/1 (31/331) /content/gdrive/MyDrive/YOLOFirst/yolov7/mountain-129241.mp4: Done. (21.2ms) Inference, (0.2ms) NMS\n",
            "video 1/1 (32/331) /content/gdrive/MyDrive/YOLOFirst/yolov7/mountain-129241.mp4: Done. (19.2ms) Inference, (0.3ms) NMS\n",
            "video 1/1 (33/331) /content/gdrive/MyDrive/YOLOFirst/yolov7/mountain-129241.mp4: Done. (19.0ms) Inference, (0.2ms) NMS\n",
            "video 1/1 (34/331) /content/gdrive/MyDrive/YOLOFirst/yolov7/mountain-129241.mp4: Done. (19.5ms) Inference, (0.2ms) NMS\n",
            "video 1/1 (35/331) /content/gdrive/MyDrive/YOLOFirst/yolov7/mountain-129241.mp4: Done. (20.7ms) Inference, (0.3ms) NMS\n",
            "video 1/1 (36/331) /content/gdrive/MyDrive/YOLOFirst/yolov7/mountain-129241.mp4: Done. (25.3ms) Inference, (0.2ms) NMS\n",
            "video 1/1 (37/331) /content/gdrive/MyDrive/YOLOFirst/yolov7/mountain-129241.mp4: Done. (22.4ms) Inference, (0.2ms) NMS\n",
            "video 1/1 (38/331) /content/gdrive/MyDrive/YOLOFirst/yolov7/mountain-129241.mp4: Done. (19.1ms) Inference, (0.2ms) NMS\n",
            "video 1/1 (39/331) /content/gdrive/MyDrive/YOLOFirst/yolov7/mountain-129241.mp4: Done. (20.1ms) Inference, (0.2ms) NMS\n",
            "video 1/1 (40/331) /content/gdrive/MyDrive/YOLOFirst/yolov7/mountain-129241.mp4: Done. (19.2ms) Inference, (0.2ms) NMS\n",
            "video 1/1 (41/331) /content/gdrive/MyDrive/YOLOFirst/yolov7/mountain-129241.mp4: Done. (18.6ms) Inference, (0.2ms) NMS\n",
            "video 1/1 (42/331) /content/gdrive/MyDrive/YOLOFirst/yolov7/mountain-129241.mp4: Done. (18.7ms) Inference, (0.2ms) NMS\n",
            "video 1/1 (43/331) /content/gdrive/MyDrive/YOLOFirst/yolov7/mountain-129241.mp4: Done. (20.4ms) Inference, (0.2ms) NMS\n",
            "video 1/1 (44/331) /content/gdrive/MyDrive/YOLOFirst/yolov7/mountain-129241.mp4: Done. (19.5ms) Inference, (0.2ms) NMS\n",
            "video 1/1 (45/331) /content/gdrive/MyDrive/YOLOFirst/yolov7/mountain-129241.mp4: Done. (19.9ms) Inference, (0.2ms) NMS\n",
            "video 1/1 (46/331) /content/gdrive/MyDrive/YOLOFirst/yolov7/mountain-129241.mp4: Done. (18.9ms) Inference, (0.2ms) NMS\n",
            "video 1/1 (47/331) /content/gdrive/MyDrive/YOLOFirst/yolov7/mountain-129241.mp4: Done. (23.3ms) Inference, (0.2ms) NMS\n",
            "video 1/1 (48/331) /content/gdrive/MyDrive/YOLOFirst/yolov7/mountain-129241.mp4: Done. (19.1ms) Inference, (0.2ms) NMS\n",
            "video 1/1 (49/331) /content/gdrive/MyDrive/YOLOFirst/yolov7/mountain-129241.mp4: Done. (18.7ms) Inference, (0.2ms) NMS\n",
            "video 1/1 (50/331) /content/gdrive/MyDrive/YOLOFirst/yolov7/mountain-129241.mp4: Done. (19.5ms) Inference, (0.2ms) NMS\n",
            "video 1/1 (51/331) /content/gdrive/MyDrive/YOLOFirst/yolov7/mountain-129241.mp4: Done. (21.0ms) Inference, (0.2ms) NMS\n",
            "video 1/1 (52/331) /content/gdrive/MyDrive/YOLOFirst/yolov7/mountain-129241.mp4: Done. (20.0ms) Inference, (0.2ms) NMS\n",
            "video 1/1 (53/331) /content/gdrive/MyDrive/YOLOFirst/yolov7/mountain-129241.mp4: Done. (19.6ms) Inference, (0.3ms) NMS\n",
            "video 1/1 (54/331) /content/gdrive/MyDrive/YOLOFirst/yolov7/mountain-129241.mp4: Done. (19.9ms) Inference, (0.2ms) NMS\n",
            "video 1/1 (55/331) /content/gdrive/MyDrive/YOLOFirst/yolov7/mountain-129241.mp4: Done. (26.3ms) Inference, (0.2ms) NMS\n",
            "video 1/1 (56/331) /content/gdrive/MyDrive/YOLOFirst/yolov7/mountain-129241.mp4: Done. (22.9ms) Inference, (0.2ms) NMS\n",
            "video 1/1 (57/331) /content/gdrive/MyDrive/YOLOFirst/yolov7/mountain-129241.mp4: Done. (21.8ms) Inference, (0.3ms) NMS\n",
            "video 1/1 (58/331) /content/gdrive/MyDrive/YOLOFirst/yolov7/mountain-129241.mp4: Done. (20.5ms) Inference, (0.3ms) NMS\n",
            "video 1/1 (59/331) /content/gdrive/MyDrive/YOLOFirst/yolov7/mountain-129241.mp4: Done. (21.7ms) Inference, (0.2ms) NMS\n",
            "video 1/1 (60/331) /content/gdrive/MyDrive/YOLOFirst/yolov7/mountain-129241.mp4: Done. (19.9ms) Inference, (0.2ms) NMS\n",
            "video 1/1 (61/331) /content/gdrive/MyDrive/YOLOFirst/yolov7/mountain-129241.mp4: Done. (19.9ms) Inference, (0.2ms) NMS\n",
            "video 1/1 (62/331) /content/gdrive/MyDrive/YOLOFirst/yolov7/mountain-129241.mp4: Done. (19.8ms) Inference, (0.2ms) NMS\n",
            "video 1/1 (63/331) /content/gdrive/MyDrive/YOLOFirst/yolov7/mountain-129241.mp4: Done. (20.7ms) Inference, (0.2ms) NMS\n",
            "video 1/1 (64/331) /content/gdrive/MyDrive/YOLOFirst/yolov7/mountain-129241.mp4: Done. (19.7ms) Inference, (0.2ms) NMS\n",
            "video 1/1 (65/331) /content/gdrive/MyDrive/YOLOFirst/yolov7/mountain-129241.mp4: Done. (22.5ms) Inference, (0.2ms) NMS\n",
            "video 1/1 (66/331) /content/gdrive/MyDrive/YOLOFirst/yolov7/mountain-129241.mp4: Done. (20.7ms) Inference, (0.2ms) NMS\n",
            "video 1/1 (67/331) /content/gdrive/MyDrive/YOLOFirst/yolov7/mountain-129241.mp4: Done. (22.5ms) Inference, (0.3ms) NMS\n",
            "video 1/1 (68/331) /content/gdrive/MyDrive/YOLOFirst/yolov7/mountain-129241.mp4: Done. (20.5ms) Inference, (0.2ms) NMS\n",
            "video 1/1 (69/331) /content/gdrive/MyDrive/YOLOFirst/yolov7/mountain-129241.mp4: Done. (19.5ms) Inference, (0.3ms) NMS\n",
            "video 1/1 (70/331) /content/gdrive/MyDrive/YOLOFirst/yolov7/mountain-129241.mp4: Done. (19.4ms) Inference, (0.2ms) NMS\n",
            "video 1/1 (71/331) /content/gdrive/MyDrive/YOLOFirst/yolov7/mountain-129241.mp4: Done. (22.0ms) Inference, (0.2ms) NMS\n",
            "video 1/1 (72/331) /content/gdrive/MyDrive/YOLOFirst/yolov7/mountain-129241.mp4: Done. (19.9ms) Inference, (0.2ms) NMS\n",
            "video 1/1 (73/331) /content/gdrive/MyDrive/YOLOFirst/yolov7/mountain-129241.mp4: Done. (19.9ms) Inference, (0.2ms) NMS\n",
            "video 1/1 (74/331) /content/gdrive/MyDrive/YOLOFirst/yolov7/mountain-129241.mp4: Done. (22.0ms) Inference, (0.3ms) NMS\n",
            "video 1/1 (75/331) /content/gdrive/MyDrive/YOLOFirst/yolov7/mountain-129241.mp4: Done. (21.3ms) Inference, (0.3ms) NMS\n",
            "video 1/1 (76/331) /content/gdrive/MyDrive/YOLOFirst/yolov7/mountain-129241.mp4: Done. (20.5ms) Inference, (0.2ms) NMS\n",
            "video 1/1 (77/331) /content/gdrive/MyDrive/YOLOFirst/yolov7/mountain-129241.mp4: Done. (19.5ms) Inference, (0.2ms) NMS\n",
            "video 1/1 (78/331) /content/gdrive/MyDrive/YOLOFirst/yolov7/mountain-129241.mp4: Done. (19.7ms) Inference, (0.3ms) NMS\n",
            "video 1/1 (79/331) /content/gdrive/MyDrive/YOLOFirst/yolov7/mountain-129241.mp4: Done. (21.5ms) Inference, (0.2ms) NMS\n",
            "video 1/1 (80/331) /content/gdrive/MyDrive/YOLOFirst/yolov7/mountain-129241.mp4: Done. (19.9ms) Inference, (0.2ms) NMS\n",
            "video 1/1 (81/331) /content/gdrive/MyDrive/YOLOFirst/yolov7/mountain-129241.mp4: Done. (20.2ms) Inference, (0.2ms) NMS\n",
            "video 1/1 (82/331) /content/gdrive/MyDrive/YOLOFirst/yolov7/mountain-129241.mp4: Done. (20.7ms) Inference, (0.2ms) NMS\n",
            "video 1/1 (83/331) /content/gdrive/MyDrive/YOLOFirst/yolov7/mountain-129241.mp4: Done. (21.9ms) Inference, (0.3ms) NMS\n",
            "video 1/1 (84/331) /content/gdrive/MyDrive/YOLOFirst/yolov7/mountain-129241.mp4: Done. (21.1ms) Inference, (0.2ms) NMS\n",
            "video 1/1 (85/331) /content/gdrive/MyDrive/YOLOFirst/yolov7/mountain-129241.mp4: Done. (19.3ms) Inference, (0.2ms) NMS\n",
            "video 1/1 (86/331) /content/gdrive/MyDrive/YOLOFirst/yolov7/mountain-129241.mp4: Done. (23.8ms) Inference, (0.2ms) NMS\n",
            "video 1/1 (87/331) /content/gdrive/MyDrive/YOLOFirst/yolov7/mountain-129241.mp4: Done. (19.3ms) Inference, (0.2ms) NMS\n",
            "video 1/1 (88/331) /content/gdrive/MyDrive/YOLOFirst/yolov7/mountain-129241.mp4: Done. (22.9ms) Inference, (0.2ms) NMS\n",
            "video 1/1 (89/331) /content/gdrive/MyDrive/YOLOFirst/yolov7/mountain-129241.mp4: Done. (20.3ms) Inference, (0.3ms) NMS\n",
            "video 1/1 (90/331) /content/gdrive/MyDrive/YOLOFirst/yolov7/mountain-129241.mp4: Done. (19.4ms) Inference, (0.2ms) NMS\n",
            "video 1/1 (91/331) /content/gdrive/MyDrive/YOLOFirst/yolov7/mountain-129241.mp4: Done. (19.2ms) Inference, (0.2ms) NMS\n",
            "video 1/1 (92/331) /content/gdrive/MyDrive/YOLOFirst/yolov7/mountain-129241.mp4: Done. (19.9ms) Inference, (0.2ms) NMS\n",
            "video 1/1 (93/331) /content/gdrive/MyDrive/YOLOFirst/yolov7/mountain-129241.mp4: Done. (20.7ms) Inference, (0.3ms) NMS\n",
            "video 1/1 (94/331) /content/gdrive/MyDrive/YOLOFirst/yolov7/mountain-129241.mp4: Done. (20.5ms) Inference, (0.2ms) NMS\n",
            "video 1/1 (95/331) /content/gdrive/MyDrive/YOLOFirst/yolov7/mountain-129241.mp4: Done. (21.4ms) Inference, (0.2ms) NMS\n",
            "video 1/1 (96/331) /content/gdrive/MyDrive/YOLOFirst/yolov7/mountain-129241.mp4: Done. (21.0ms) Inference, (0.2ms) NMS\n",
            "video 1/1 (97/331) /content/gdrive/MyDrive/YOLOFirst/yolov7/mountain-129241.mp4: Done. (20.8ms) Inference, (0.2ms) NMS\n",
            "video 1/1 (98/331) /content/gdrive/MyDrive/YOLOFirst/yolov7/mountain-129241.mp4: Done. (19.5ms) Inference, (0.2ms) NMS\n",
            "video 1/1 (99/331) /content/gdrive/MyDrive/YOLOFirst/yolov7/mountain-129241.mp4: Done. (24.3ms) Inference, (0.3ms) NMS\n",
            "video 1/1 (100/331) /content/gdrive/MyDrive/YOLOFirst/yolov7/mountain-129241.mp4: Done. (19.5ms) Inference, (0.2ms) NMS\n",
            "video 1/1 (101/331) /content/gdrive/MyDrive/YOLOFirst/yolov7/mountain-129241.mp4: Done. (19.2ms) Inference, (0.3ms) NMS\n",
            "video 1/1 (102/331) /content/gdrive/MyDrive/YOLOFirst/yolov7/mountain-129241.mp4: Done. (19.6ms) Inference, (0.2ms) NMS\n",
            "video 1/1 (103/331) /content/gdrive/MyDrive/YOLOFirst/yolov7/mountain-129241.mp4: Done. (20.3ms) Inference, (0.2ms) NMS\n",
            "video 1/1 (104/331) /content/gdrive/MyDrive/YOLOFirst/yolov7/mountain-129241.mp4: Done. (18.9ms) Inference, (0.2ms) NMS\n",
            "video 1/1 (105/331) /content/gdrive/MyDrive/YOLOFirst/yolov7/mountain-129241.mp4: Done. (19.3ms) Inference, (0.2ms) NMS\n",
            "video 1/1 (106/331) /content/gdrive/MyDrive/YOLOFirst/yolov7/mountain-129241.mp4: Done. (18.6ms) Inference, (0.2ms) NMS\n",
            "video 1/1 (107/331) /content/gdrive/MyDrive/YOLOFirst/yolov7/mountain-129241.mp4: Done. (20.9ms) Inference, (0.3ms) NMS\n",
            "video 1/1 (108/331) /content/gdrive/MyDrive/YOLOFirst/yolov7/mountain-129241.mp4: Done. (19.9ms) Inference, (0.2ms) NMS\n",
            "video 1/1 (109/331) /content/gdrive/MyDrive/YOLOFirst/yolov7/mountain-129241.mp4: Done. (19.3ms) Inference, (0.2ms) NMS\n",
            "video 1/1 (110/331) /content/gdrive/MyDrive/YOLOFirst/yolov7/mountain-129241.mp4: Done. (19.4ms) Inference, (0.2ms) NMS\n",
            "video 1/1 (111/331) /content/gdrive/MyDrive/YOLOFirst/yolov7/mountain-129241.mp4: Done. (24.4ms) Inference, (0.3ms) NMS\n",
            "video 1/1 (112/331) /content/gdrive/MyDrive/YOLOFirst/yolov7/mountain-129241.mp4: Done. (22.8ms) Inference, (0.2ms) NMS\n",
            "video 1/1 (113/331) /content/gdrive/MyDrive/YOLOFirst/yolov7/mountain-129241.mp4: Done. (22.8ms) Inference, (0.3ms) NMS\n",
            "video 1/1 (114/331) /content/gdrive/MyDrive/YOLOFirst/yolov7/mountain-129241.mp4: Done. (20.7ms) Inference, (0.3ms) NMS\n",
            "video 1/1 (115/331) /content/gdrive/MyDrive/YOLOFirst/yolov7/mountain-129241.mp4: Done. (22.4ms) Inference, (0.3ms) NMS\n",
            "video 1/1 (116/331) /content/gdrive/MyDrive/YOLOFirst/yolov7/mountain-129241.mp4: Done. (22.0ms) Inference, (0.3ms) NMS\n",
            "video 1/1 (117/331) /content/gdrive/MyDrive/YOLOFirst/yolov7/mountain-129241.mp4: Done. (19.8ms) Inference, (0.2ms) NMS\n",
            "video 1/1 (118/331) /content/gdrive/MyDrive/YOLOFirst/yolov7/mountain-129241.mp4: Done. (19.8ms) Inference, (0.2ms) NMS\n",
            "video 1/1 (119/331) /content/gdrive/MyDrive/YOLOFirst/yolov7/mountain-129241.mp4: Done. (20.4ms) Inference, (0.2ms) NMS\n",
            "video 1/1 (120/331) /content/gdrive/MyDrive/YOLOFirst/yolov7/mountain-129241.mp4: Done. (30.1ms) Inference, (0.2ms) NMS\n",
            "video 1/1 (121/331) /content/gdrive/MyDrive/YOLOFirst/yolov7/mountain-129241.mp4: Done. (19.8ms) Inference, (0.2ms) NMS\n",
            "video 1/1 (122/331) /content/gdrive/MyDrive/YOLOFirst/yolov7/mountain-129241.mp4: Done. (19.9ms) Inference, (0.2ms) NMS\n",
            "video 1/1 (123/331) /content/gdrive/MyDrive/YOLOFirst/yolov7/mountain-129241.mp4: Done. (20.7ms) Inference, (0.2ms) NMS\n",
            "video 1/1 (124/331) /content/gdrive/MyDrive/YOLOFirst/yolov7/mountain-129241.mp4: Done. (20.1ms) Inference, (0.2ms) NMS\n",
            "video 1/1 (125/331) /content/gdrive/MyDrive/YOLOFirst/yolov7/mountain-129241.mp4: Done. (20.0ms) Inference, (0.2ms) NMS\n",
            "video 1/1 (126/331) /content/gdrive/MyDrive/YOLOFirst/yolov7/mountain-129241.mp4: Done. (21.7ms) Inference, (0.2ms) NMS\n",
            "video 1/1 (127/331) /content/gdrive/MyDrive/YOLOFirst/yolov7/mountain-129241.mp4: Done. (22.9ms) Inference, (0.2ms) NMS\n",
            "video 1/1 (128/331) /content/gdrive/MyDrive/YOLOFirst/yolov7/mountain-129241.mp4: Done. (20.1ms) Inference, (0.2ms) NMS\n",
            "video 1/1 (129/331) /content/gdrive/MyDrive/YOLOFirst/yolov7/mountain-129241.mp4: Done. (20.0ms) Inference, (0.2ms) NMS\n",
            "video 1/1 (130/331) /content/gdrive/MyDrive/YOLOFirst/yolov7/mountain-129241.mp4: Done. (19.1ms) Inference, (0.2ms) NMS\n",
            "video 1/1 (131/331) /content/gdrive/MyDrive/YOLOFirst/yolov7/mountain-129241.mp4: Done. (19.9ms) Inference, (0.2ms) NMS\n",
            "video 1/1 (132/331) /content/gdrive/MyDrive/YOLOFirst/yolov7/mountain-129241.mp4: Done. (18.9ms) Inference, (0.2ms) NMS\n",
            "video 1/1 (133/331) /content/gdrive/MyDrive/YOLOFirst/yolov7/mountain-129241.mp4: Done. (18.8ms) Inference, (0.2ms) NMS\n",
            "video 1/1 (134/331) /content/gdrive/MyDrive/YOLOFirst/yolov7/mountain-129241.mp4: Done. (18.8ms) Inference, (0.2ms) NMS\n",
            "video 1/1 (135/331) /content/gdrive/MyDrive/YOLOFirst/yolov7/mountain-129241.mp4: Done. (21.8ms) Inference, (0.3ms) NMS\n",
            "video 1/1 (136/331) /content/gdrive/MyDrive/YOLOFirst/yolov7/mountain-129241.mp4: Done. (20.1ms) Inference, (0.2ms) NMS\n",
            "video 1/1 (137/331) /content/gdrive/MyDrive/YOLOFirst/yolov7/mountain-129241.mp4: Done. (19.1ms) Inference, (0.2ms) NMS\n",
            "video 1/1 (138/331) /content/gdrive/MyDrive/YOLOFirst/yolov7/mountain-129241.mp4: Done. (22.6ms) Inference, (0.2ms) NMS\n",
            "video 1/1 (139/331) /content/gdrive/MyDrive/YOLOFirst/yolov7/mountain-129241.mp4: Done. (20.2ms) Inference, (0.2ms) NMS\n",
            "video 1/1 (140/331) /content/gdrive/MyDrive/YOLOFirst/yolov7/mountain-129241.mp4: Done. (19.6ms) Inference, (0.2ms) NMS\n",
            "video 1/1 (141/331) /content/gdrive/MyDrive/YOLOFirst/yolov7/mountain-129241.mp4: Done. (19.7ms) Inference, (0.2ms) NMS\n",
            "video 1/1 (142/331) /content/gdrive/MyDrive/YOLOFirst/yolov7/mountain-129241.mp4: Done. (19.9ms) Inference, (0.2ms) NMS\n",
            "video 1/1 (143/331) /content/gdrive/MyDrive/YOLOFirst/yolov7/mountain-129241.mp4: Done. (20.4ms) Inference, (0.2ms) NMS\n",
            "video 1/1 (144/331) /content/gdrive/MyDrive/YOLOFirst/yolov7/mountain-129241.mp4: Done. (19.4ms) Inference, (0.2ms) NMS\n",
            "video 1/1 (145/331) /content/gdrive/MyDrive/YOLOFirst/yolov7/mountain-129241.mp4: Done. (18.8ms) Inference, (0.2ms) NMS\n",
            "video 1/1 (146/331) /content/gdrive/MyDrive/YOLOFirst/yolov7/mountain-129241.mp4: Done. (19.1ms) Inference, (0.2ms) NMS\n",
            "video 1/1 (147/331) /content/gdrive/MyDrive/YOLOFirst/yolov7/mountain-129241.mp4: Done. (25.0ms) Inference, (0.4ms) NMS\n",
            "video 1/1 (148/331) /content/gdrive/MyDrive/YOLOFirst/yolov7/mountain-129241.mp4: Done. (22.0ms) Inference, (0.2ms) NMS\n",
            "video 1/1 (149/331) /content/gdrive/MyDrive/YOLOFirst/yolov7/mountain-129241.mp4: Done. (18.9ms) Inference, (0.2ms) NMS\n",
            "video 1/1 (150/331) /content/gdrive/MyDrive/YOLOFirst/yolov7/mountain-129241.mp4: Done. (19.0ms) Inference, (0.2ms) NMS\n",
            "video 1/1 (151/331) /content/gdrive/MyDrive/YOLOFirst/yolov7/mountain-129241.mp4: Done. (20.6ms) Inference, (0.2ms) NMS\n",
            "video 1/1 (152/331) /content/gdrive/MyDrive/YOLOFirst/yolov7/mountain-129241.mp4: Done. (20.3ms) Inference, (0.3ms) NMS\n",
            "video 1/1 (153/331) /content/gdrive/MyDrive/YOLOFirst/yolov7/mountain-129241.mp4: Done. (19.7ms) Inference, (0.2ms) NMS\n",
            "video 1/1 (154/331) /content/gdrive/MyDrive/YOLOFirst/yolov7/mountain-129241.mp4: Done. (19.6ms) Inference, (0.2ms) NMS\n",
            "video 1/1 (155/331) /content/gdrive/MyDrive/YOLOFirst/yolov7/mountain-129241.mp4: Done. (21.3ms) Inference, (0.2ms) NMS\n",
            "video 1/1 (156/331) /content/gdrive/MyDrive/YOLOFirst/yolov7/mountain-129241.mp4: Done. (19.8ms) Inference, (0.2ms) NMS\n",
            "video 1/1 (157/331) /content/gdrive/MyDrive/YOLOFirst/yolov7/mountain-129241.mp4: Done. (24.3ms) Inference, (0.2ms) NMS\n",
            "video 1/1 (158/331) /content/gdrive/MyDrive/YOLOFirst/yolov7/mountain-129241.mp4: Done. (20.7ms) Inference, (0.2ms) NMS\n",
            "video 1/1 (159/331) /content/gdrive/MyDrive/YOLOFirst/yolov7/mountain-129241.mp4: Done. (22.0ms) Inference, (0.2ms) NMS\n",
            "video 1/1 (160/331) /content/gdrive/MyDrive/YOLOFirst/yolov7/mountain-129241.mp4: Done. (20.2ms) Inference, (0.2ms) NMS\n",
            "video 1/1 (161/331) /content/gdrive/MyDrive/YOLOFirst/yolov7/mountain-129241.mp4: Done. (20.8ms) Inference, (0.4ms) NMS\n",
            "video 1/1 (162/331) /content/gdrive/MyDrive/YOLOFirst/yolov7/mountain-129241.mp4: Done. (19.5ms) Inference, (0.2ms) NMS\n",
            "video 1/1 (163/331) /content/gdrive/MyDrive/YOLOFirst/yolov7/mountain-129241.mp4: Done. (21.5ms) Inference, (0.2ms) NMS\n",
            "video 1/1 (164/331) /content/gdrive/MyDrive/YOLOFirst/yolov7/mountain-129241.mp4: Done. (19.1ms) Inference, (0.2ms) NMS\n",
            "video 1/1 (165/331) /content/gdrive/MyDrive/YOLOFirst/yolov7/mountain-129241.mp4: Done. (18.9ms) Inference, (0.2ms) NMS\n",
            "video 1/1 (166/331) /content/gdrive/MyDrive/YOLOFirst/yolov7/mountain-129241.mp4: Done. (22.0ms) Inference, (0.2ms) NMS\n",
            "video 1/1 (167/331) /content/gdrive/MyDrive/YOLOFirst/yolov7/mountain-129241.mp4: Done. (20.7ms) Inference, (0.2ms) NMS\n",
            "video 1/1 (168/331) /content/gdrive/MyDrive/YOLOFirst/yolov7/mountain-129241.mp4: Done. (20.2ms) Inference, (0.3ms) NMS\n",
            "video 1/1 (169/331) /content/gdrive/MyDrive/YOLOFirst/yolov7/mountain-129241.mp4: Done. (19.9ms) Inference, (0.2ms) NMS\n",
            "video 1/1 (170/331) /content/gdrive/MyDrive/YOLOFirst/yolov7/mountain-129241.mp4: Done. (19.2ms) Inference, (0.2ms) NMS\n",
            "video 1/1 (171/331) /content/gdrive/MyDrive/YOLOFirst/yolov7/mountain-129241.mp4: Done. (21.5ms) Inference, (0.3ms) NMS\n",
            "video 1/1 (172/331) /content/gdrive/MyDrive/YOLOFirst/yolov7/mountain-129241.mp4: Done. (19.8ms) Inference, (0.2ms) NMS\n",
            "video 1/1 (173/331) /content/gdrive/MyDrive/YOLOFirst/yolov7/mountain-129241.mp4: Done. (19.4ms) Inference, (0.2ms) NMS\n",
            "video 1/1 (174/331) /content/gdrive/MyDrive/YOLOFirst/yolov7/mountain-129241.mp4: Done. (19.2ms) Inference, (0.4ms) NMS\n",
            "video 1/1 (175/331) /content/gdrive/MyDrive/YOLOFirst/yolov7/mountain-129241.mp4: Done. (21.4ms) Inference, (0.2ms) NMS\n",
            "video 1/1 (176/331) /content/gdrive/MyDrive/YOLOFirst/yolov7/mountain-129241.mp4: Done. (19.2ms) Inference, (0.2ms) NMS\n",
            "video 1/1 (177/331) /content/gdrive/MyDrive/YOLOFirst/yolov7/mountain-129241.mp4: Done. (19.0ms) Inference, (0.2ms) NMS\n",
            "video 1/1 (178/331) /content/gdrive/MyDrive/YOLOFirst/yolov7/mountain-129241.mp4: Done. (23.3ms) Inference, (0.3ms) NMS\n",
            "video 1/1 (179/331) /content/gdrive/MyDrive/YOLOFirst/yolov7/mountain-129241.mp4: Done. (24.0ms) Inference, (0.3ms) NMS\n",
            "video 1/1 (180/331) /content/gdrive/MyDrive/YOLOFirst/yolov7/mountain-129241.mp4: Done. (19.2ms) Inference, (0.2ms) NMS\n",
            "video 1/1 (181/331) /content/gdrive/MyDrive/YOLOFirst/yolov7/mountain-129241.mp4: Done. (18.7ms) Inference, (0.2ms) NMS\n",
            "video 1/1 (182/331) /content/gdrive/MyDrive/YOLOFirst/yolov7/mountain-129241.mp4: Done. (18.8ms) Inference, (0.3ms) NMS\n",
            "video 1/1 (183/331) /content/gdrive/MyDrive/YOLOFirst/yolov7/mountain-129241.mp4: Done. (21.6ms) Inference, (0.2ms) NMS\n",
            "video 1/1 (184/331) /content/gdrive/MyDrive/YOLOFirst/yolov7/mountain-129241.mp4: Done. (19.5ms) Inference, (0.2ms) NMS\n",
            "video 1/1 (185/331) /content/gdrive/MyDrive/YOLOFirst/yolov7/mountain-129241.mp4: Done. (23.1ms) Inference, (0.3ms) NMS\n",
            "video 1/1 (186/331) /content/gdrive/MyDrive/YOLOFirst/yolov7/mountain-129241.mp4: Done. (28.1ms) Inference, (0.3ms) NMS\n",
            "video 1/1 (187/331) /content/gdrive/MyDrive/YOLOFirst/yolov7/mountain-129241.mp4: Done. (32.0ms) Inference, (0.3ms) NMS\n",
            "video 1/1 (188/331) /content/gdrive/MyDrive/YOLOFirst/yolov7/mountain-129241.mp4: Done. (30.5ms) Inference, (0.4ms) NMS\n",
            "video 1/1 (189/331) /content/gdrive/MyDrive/YOLOFirst/yolov7/mountain-129241.mp4: Done. (28.3ms) Inference, (0.3ms) NMS\n",
            "video 1/1 (190/331) /content/gdrive/MyDrive/YOLOFirst/yolov7/mountain-129241.mp4: Done. (25.6ms) Inference, (0.3ms) NMS\n",
            "video 1/1 (191/331) /content/gdrive/MyDrive/YOLOFirst/yolov7/mountain-129241.mp4: Done. (39.8ms) Inference, (0.3ms) NMS\n",
            "video 1/1 (192/331) /content/gdrive/MyDrive/YOLOFirst/yolov7/mountain-129241.mp4: Done. (24.8ms) Inference, (0.3ms) NMS\n",
            "video 1/1 (193/331) /content/gdrive/MyDrive/YOLOFirst/yolov7/mountain-129241.mp4: Done. (25.3ms) Inference, (0.3ms) NMS\n",
            "video 1/1 (194/331) /content/gdrive/MyDrive/YOLOFirst/yolov7/mountain-129241.mp4: Done. (24.9ms) Inference, (0.3ms) NMS\n",
            "video 1/1 (195/331) /content/gdrive/MyDrive/YOLOFirst/yolov7/mountain-129241.mp4: Done. (24.6ms) Inference, (0.3ms) NMS\n",
            "video 1/1 (196/331) /content/gdrive/MyDrive/YOLOFirst/yolov7/mountain-129241.mp4: Done. (25.7ms) Inference, (0.3ms) NMS\n",
            "video 1/1 (197/331) /content/gdrive/MyDrive/YOLOFirst/yolov7/mountain-129241.mp4: Done. (25.5ms) Inference, (0.3ms) NMS\n",
            "video 1/1 (198/331) /content/gdrive/MyDrive/YOLOFirst/yolov7/mountain-129241.mp4: Done. (26.2ms) Inference, (0.3ms) NMS\n",
            "video 1/1 (199/331) /content/gdrive/MyDrive/YOLOFirst/yolov7/mountain-129241.mp4: Done. (29.7ms) Inference, (0.3ms) NMS\n",
            "video 1/1 (200/331) /content/gdrive/MyDrive/YOLOFirst/yolov7/mountain-129241.mp4: Done. (25.2ms) Inference, (0.3ms) NMS\n",
            "video 1/1 (201/331) /content/gdrive/MyDrive/YOLOFirst/yolov7/mountain-129241.mp4: Done. (24.7ms) Inference, (0.3ms) NMS\n",
            "video 1/1 (202/331) /content/gdrive/MyDrive/YOLOFirst/yolov7/mountain-129241.mp4: Done. (31.9ms) Inference, (0.3ms) NMS\n",
            "video 1/1 (203/331) /content/gdrive/MyDrive/YOLOFirst/yolov7/mountain-129241.mp4: Done. (30.7ms) Inference, (0.3ms) NMS\n",
            "video 1/1 (204/331) /content/gdrive/MyDrive/YOLOFirst/yolov7/mountain-129241.mp4: Done. (26.4ms) Inference, (0.3ms) NMS\n",
            "video 1/1 (205/331) /content/gdrive/MyDrive/YOLOFirst/yolov7/mountain-129241.mp4: Done. (25.6ms) Inference, (0.3ms) NMS\n",
            "video 1/1 (206/331) /content/gdrive/MyDrive/YOLOFirst/yolov7/mountain-129241.mp4: Done. (25.0ms) Inference, (0.3ms) NMS\n",
            "video 1/1 (207/331) /content/gdrive/MyDrive/YOLOFirst/yolov7/mountain-129241.mp4: Done. (30.2ms) Inference, (0.3ms) NMS\n",
            "video 1/1 (208/331) /content/gdrive/MyDrive/YOLOFirst/yolov7/mountain-129241.mp4: Done. (32.3ms) Inference, (0.3ms) NMS\n",
            "video 1/1 (209/331) /content/gdrive/MyDrive/YOLOFirst/yolov7/mountain-129241.mp4: Done. (27.7ms) Inference, (0.3ms) NMS\n",
            "video 1/1 (210/331) /content/gdrive/MyDrive/YOLOFirst/yolov7/mountain-129241.mp4: Done. (27.2ms) Inference, (0.3ms) NMS\n",
            "video 1/1 (211/331) /content/gdrive/MyDrive/YOLOFirst/yolov7/mountain-129241.mp4: Done. (25.2ms) Inference, (0.3ms) NMS\n",
            "video 1/1 (212/331) /content/gdrive/MyDrive/YOLOFirst/yolov7/mountain-129241.mp4: Done. (24.8ms) Inference, (0.3ms) NMS\n",
            "video 1/1 (213/331) /content/gdrive/MyDrive/YOLOFirst/yolov7/mountain-129241.mp4: Done. (24.9ms) Inference, (0.3ms) NMS\n",
            "video 1/1 (214/331) /content/gdrive/MyDrive/YOLOFirst/yolov7/mountain-129241.mp4: Done. (25.4ms) Inference, (0.3ms) NMS\n",
            "video 1/1 (215/331) /content/gdrive/MyDrive/YOLOFirst/yolov7/mountain-129241.mp4: Done. (31.6ms) Inference, (0.3ms) NMS\n",
            "video 1/1 (216/331) /content/gdrive/MyDrive/YOLOFirst/yolov7/mountain-129241.mp4: Done. (25.9ms) Inference, (0.3ms) NMS\n",
            "video 1/1 (217/331) /content/gdrive/MyDrive/YOLOFirst/yolov7/mountain-129241.mp4: Done. (25.6ms) Inference, (0.3ms) NMS\n",
            "video 1/1 (218/331) /content/gdrive/MyDrive/YOLOFirst/yolov7/mountain-129241.mp4: Done. (24.7ms) Inference, (0.3ms) NMS\n",
            "video 1/1 (219/331) /content/gdrive/MyDrive/YOLOFirst/yolov7/mountain-129241.mp4: Done. (28.4ms) Inference, (0.3ms) NMS\n",
            "video 1/1 (220/331) /content/gdrive/MyDrive/YOLOFirst/yolov7/mountain-129241.mp4: Done. (31.4ms) Inference, (0.3ms) NMS\n",
            "video 1/1 (221/331) /content/gdrive/MyDrive/YOLOFirst/yolov7/mountain-129241.mp4: Done. (31.0ms) Inference, (0.3ms) NMS\n",
            "video 1/1 (222/331) /content/gdrive/MyDrive/YOLOFirst/yolov7/mountain-129241.mp4: Done. (29.0ms) Inference, (0.3ms) NMS\n",
            "video 1/1 (223/331) /content/gdrive/MyDrive/YOLOFirst/yolov7/mountain-129241.mp4: Done. (26.6ms) Inference, (0.3ms) NMS\n",
            "video 1/1 (224/331) /content/gdrive/MyDrive/YOLOFirst/yolov7/mountain-129241.mp4: Done. (24.8ms) Inference, (0.3ms) NMS\n",
            "video 1/1 (225/331) /content/gdrive/MyDrive/YOLOFirst/yolov7/mountain-129241.mp4: Done. (30.6ms) Inference, (0.3ms) NMS\n",
            "video 1/1 (226/331) /content/gdrive/MyDrive/YOLOFirst/yolov7/mountain-129241.mp4: Done. (42.2ms) Inference, (0.3ms) NMS\n",
            "video 1/1 (227/331) /content/gdrive/MyDrive/YOLOFirst/yolov7/mountain-129241.mp4: Done. (25.5ms) Inference, (0.3ms) NMS\n",
            "video 1/1 (228/331) /content/gdrive/MyDrive/YOLOFirst/yolov7/mountain-129241.mp4: Done. (25.1ms) Inference, (0.3ms) NMS\n",
            "video 1/1 (229/331) /content/gdrive/MyDrive/YOLOFirst/yolov7/mountain-129241.mp4: Done. (24.9ms) Inference, (0.3ms) NMS\n",
            "video 1/1 (230/331) /content/gdrive/MyDrive/YOLOFirst/yolov7/mountain-129241.mp4: Done. (25.0ms) Inference, (0.3ms) NMS\n",
            "video 1/1 (231/331) /content/gdrive/MyDrive/YOLOFirst/yolov7/mountain-129241.mp4: Done. (25.6ms) Inference, (0.3ms) NMS\n",
            "video 1/1 (232/331) /content/gdrive/MyDrive/YOLOFirst/yolov7/mountain-129241.mp4: Done. (25.0ms) Inference, (0.3ms) NMS\n",
            "video 1/1 (233/331) /content/gdrive/MyDrive/YOLOFirst/yolov7/mountain-129241.mp4: Done. (25.1ms) Inference, (0.3ms) NMS\n",
            "video 1/1 (234/331) /content/gdrive/MyDrive/YOLOFirst/yolov7/mountain-129241.mp4: Done. (28.3ms) Inference, (0.3ms) NMS\n",
            "video 1/1 (235/331) /content/gdrive/MyDrive/YOLOFirst/yolov7/mountain-129241.mp4: Done. (28.2ms) Inference, (0.3ms) NMS\n",
            "video 1/1 (236/331) /content/gdrive/MyDrive/YOLOFirst/yolov7/mountain-129241.mp4: Done. (29.5ms) Inference, (0.3ms) NMS\n",
            "video 1/1 (237/331) /content/gdrive/MyDrive/YOLOFirst/yolov7/mountain-129241.mp4: Done. (26.2ms) Inference, (0.3ms) NMS\n",
            "video 1/1 (238/331) /content/gdrive/MyDrive/YOLOFirst/yolov7/mountain-129241.mp4: Done. (28.8ms) Inference, (0.3ms) NMS\n",
            "video 1/1 (239/331) /content/gdrive/MyDrive/YOLOFirst/yolov7/mountain-129241.mp4: Done. (25.7ms) Inference, (0.3ms) NMS\n",
            "video 1/1 (240/331) /content/gdrive/MyDrive/YOLOFirst/yolov7/mountain-129241.mp4: Done. (29.2ms) Inference, (0.4ms) NMS\n",
            "video 1/1 (241/331) /content/gdrive/MyDrive/YOLOFirst/yolov7/mountain-129241.mp4: Done. (33.5ms) Inference, (0.3ms) NMS\n",
            "video 1/1 (242/331) /content/gdrive/MyDrive/YOLOFirst/yolov7/mountain-129241.mp4: Done. (27.9ms) Inference, (0.3ms) NMS\n",
            "video 1/1 (243/331) /content/gdrive/MyDrive/YOLOFirst/yolov7/mountain-129241.mp4: Done. (26.1ms) Inference, (0.3ms) NMS\n",
            "video 1/1 (244/331) /content/gdrive/MyDrive/YOLOFirst/yolov7/mountain-129241.mp4: Done. (24.9ms) Inference, (0.3ms) NMS\n",
            "video 1/1 (245/331) /content/gdrive/MyDrive/YOLOFirst/yolov7/mountain-129241.mp4: Done. (25.1ms) Inference, (0.3ms) NMS\n",
            "video 1/1 (246/331) /content/gdrive/MyDrive/YOLOFirst/yolov7/mountain-129241.mp4: Done. (25.6ms) Inference, (0.3ms) NMS\n",
            "video 1/1 (247/331) /content/gdrive/MyDrive/YOLOFirst/yolov7/mountain-129241.mp4: Done. (25.5ms) Inference, (0.3ms) NMS\n",
            "video 1/1 (248/331) /content/gdrive/MyDrive/YOLOFirst/yolov7/mountain-129241.mp4: Done. (30.9ms) Inference, (0.3ms) NMS\n",
            "video 1/1 (249/331) /content/gdrive/MyDrive/YOLOFirst/yolov7/mountain-129241.mp4: Done. (26.5ms) Inference, (0.3ms) NMS\n",
            "video 1/1 (250/331) /content/gdrive/MyDrive/YOLOFirst/yolov7/mountain-129241.mp4: Done. (25.8ms) Inference, (0.3ms) NMS\n",
            "video 1/1 (251/331) /content/gdrive/MyDrive/YOLOFirst/yolov7/mountain-129241.mp4: Done. (26.2ms) Inference, (0.3ms) NMS\n",
            "video 1/1 (252/331) /content/gdrive/MyDrive/YOLOFirst/yolov7/mountain-129241.mp4: Done. (25.6ms) Inference, (0.3ms) NMS\n",
            "video 1/1 (253/331) /content/gdrive/MyDrive/YOLOFirst/yolov7/mountain-129241.mp4: Done. (24.9ms) Inference, (0.3ms) NMS\n",
            "video 1/1 (254/331) /content/gdrive/MyDrive/YOLOFirst/yolov7/mountain-129241.mp4: Done. (25.2ms) Inference, (0.3ms) NMS\n",
            "video 1/1 (255/331) /content/gdrive/MyDrive/YOLOFirst/yolov7/mountain-129241.mp4: Done. (25.9ms) Inference, (0.3ms) NMS\n",
            "video 1/1 (256/331) /content/gdrive/MyDrive/YOLOFirst/yolov7/mountain-129241.mp4: Done. (29.1ms) Inference, (0.3ms) NMS\n",
            "video 1/1 (257/331) /content/gdrive/MyDrive/YOLOFirst/yolov7/mountain-129241.mp4: Done. (29.7ms) Inference, (0.3ms) NMS\n",
            "video 1/1 (258/331) /content/gdrive/MyDrive/YOLOFirst/yolov7/mountain-129241.mp4: Done. (25.3ms) Inference, (0.3ms) NMS\n",
            "video 1/1 (259/331) /content/gdrive/MyDrive/YOLOFirst/yolov7/mountain-129241.mp4: Done. (33.5ms) Inference, (0.4ms) NMS\n",
            "video 1/1 (260/331) /content/gdrive/MyDrive/YOLOFirst/yolov7/mountain-129241.mp4: Done. (26.5ms) Inference, (0.3ms) NMS\n",
            "video 1/1 (261/331) /content/gdrive/MyDrive/YOLOFirst/yolov7/mountain-129241.mp4: Done. (29.1ms) Inference, (0.3ms) NMS\n",
            "video 1/1 (262/331) /content/gdrive/MyDrive/YOLOFirst/yolov7/mountain-129241.mp4: Done. (30.5ms) Inference, (0.4ms) NMS\n",
            "video 1/1 (263/331) /content/gdrive/MyDrive/YOLOFirst/yolov7/mountain-129241.mp4: Done. (31.4ms) Inference, (0.4ms) NMS\n",
            "video 1/1 (264/331) /content/gdrive/MyDrive/YOLOFirst/yolov7/mountain-129241.mp4: Done. (23.0ms) Inference, (0.2ms) NMS\n",
            "video 1/1 (265/331) /content/gdrive/MyDrive/YOLOFirst/yolov7/mountain-129241.mp4: Done. (23.9ms) Inference, (0.4ms) NMS\n",
            "video 1/1 (266/331) /content/gdrive/MyDrive/YOLOFirst/yolov7/mountain-129241.mp4: Done. (19.4ms) Inference, (0.2ms) NMS\n",
            "video 1/1 (267/331) /content/gdrive/MyDrive/YOLOFirst/yolov7/mountain-129241.mp4: Done. (24.2ms) Inference, (0.3ms) NMS\n",
            "video 1/1 (268/331) /content/gdrive/MyDrive/YOLOFirst/yolov7/mountain-129241.mp4: Done. (23.8ms) Inference, (0.2ms) NMS\n",
            "video 1/1 (269/331) /content/gdrive/MyDrive/YOLOFirst/yolov7/mountain-129241.mp4: Done. (21.2ms) Inference, (0.2ms) NMS\n",
            "video 1/1 (270/331) /content/gdrive/MyDrive/YOLOFirst/yolov7/mountain-129241.mp4: Done. (19.7ms) Inference, (0.2ms) NMS\n",
            "video 1/1 (271/331) /content/gdrive/MyDrive/YOLOFirst/yolov7/mountain-129241.mp4: Done. (19.5ms) Inference, (0.2ms) NMS\n",
            "video 1/1 (272/331) /content/gdrive/MyDrive/YOLOFirst/yolov7/mountain-129241.mp4: Done. (19.4ms) Inference, (0.2ms) NMS\n",
            "video 1/1 (273/331) /content/gdrive/MyDrive/YOLOFirst/yolov7/mountain-129241.mp4: Done. (31.3ms) Inference, (0.3ms) NMS\n",
            "video 1/1 (274/331) /content/gdrive/MyDrive/YOLOFirst/yolov7/mountain-129241.mp4: Done. (19.5ms) Inference, (0.2ms) NMS\n",
            "video 1/1 (275/331) /content/gdrive/MyDrive/YOLOFirst/yolov7/mountain-129241.mp4: Done. (20.9ms) Inference, (0.3ms) NMS\n",
            "video 1/1 (276/331) /content/gdrive/MyDrive/YOLOFirst/yolov7/mountain-129241.mp4: Done. (23.2ms) Inference, (0.2ms) NMS\n",
            "video 1/1 (277/331) /content/gdrive/MyDrive/YOLOFirst/yolov7/mountain-129241.mp4: Done. (21.4ms) Inference, (0.2ms) NMS\n",
            "video 1/1 (278/331) /content/gdrive/MyDrive/YOLOFirst/yolov7/mountain-129241.mp4: Done. (21.5ms) Inference, (0.2ms) NMS\n",
            "video 1/1 (279/331) /content/gdrive/MyDrive/YOLOFirst/yolov7/mountain-129241.mp4: Done. (19.7ms) Inference, (0.3ms) NMS\n",
            "video 1/1 (280/331) /content/gdrive/MyDrive/YOLOFirst/yolov7/mountain-129241.mp4: Done. (19.4ms) Inference, (0.2ms) NMS\n",
            "video 1/1 (281/331) /content/gdrive/MyDrive/YOLOFirst/yolov7/mountain-129241.mp4: Done. (21.2ms) Inference, (0.2ms) NMS\n",
            "video 1/1 (282/331) /content/gdrive/MyDrive/YOLOFirst/yolov7/mountain-129241.mp4: Done. (19.5ms) Inference, (0.2ms) NMS\n",
            "video 1/1 (283/331) /content/gdrive/MyDrive/YOLOFirst/yolov7/mountain-129241.mp4: Done. (20.7ms) Inference, (0.2ms) NMS\n",
            "video 1/1 (284/331) /content/gdrive/MyDrive/YOLOFirst/yolov7/mountain-129241.mp4: Done. (20.3ms) Inference, (0.2ms) NMS\n",
            "video 1/1 (285/331) /content/gdrive/MyDrive/YOLOFirst/yolov7/mountain-129241.mp4: Done. (22.2ms) Inference, (0.2ms) NMS\n",
            "video 1/1 (286/331) /content/gdrive/MyDrive/YOLOFirst/yolov7/mountain-129241.mp4: Done. (20.8ms) Inference, (0.3ms) NMS\n",
            "video 1/1 (287/331) /content/gdrive/MyDrive/YOLOFirst/yolov7/mountain-129241.mp4: Done. (25.4ms) Inference, (0.2ms) NMS\n",
            "video 1/1 (288/331) /content/gdrive/MyDrive/YOLOFirst/yolov7/mountain-129241.mp4: Done. (19.1ms) Inference, (0.2ms) NMS\n",
            "video 1/1 (289/331) /content/gdrive/MyDrive/YOLOFirst/yolov7/mountain-129241.mp4: Done. (22.3ms) Inference, (0.2ms) NMS\n",
            "video 1/1 (290/331) /content/gdrive/MyDrive/YOLOFirst/yolov7/mountain-129241.mp4: Done. (19.7ms) Inference, (0.2ms) NMS\n",
            "video 1/1 (291/331) /content/gdrive/MyDrive/YOLOFirst/yolov7/mountain-129241.mp4: Done. (19.2ms) Inference, (0.2ms) NMS\n",
            "video 1/1 (292/331) /content/gdrive/MyDrive/YOLOFirst/yolov7/mountain-129241.mp4: Done. (23.2ms) Inference, (0.2ms) NMS\n",
            "video 1/1 (293/331) /content/gdrive/MyDrive/YOLOFirst/yolov7/mountain-129241.mp4: Done. (41.7ms) Inference, (0.2ms) NMS\n",
            "video 1/1 (294/331) /content/gdrive/MyDrive/YOLOFirst/yolov7/mountain-129241.mp4: Done. (20.6ms) Inference, (0.2ms) NMS\n",
            "video 1/1 (295/331) /content/gdrive/MyDrive/YOLOFirst/yolov7/mountain-129241.mp4: Done. (20.0ms) Inference, (0.3ms) NMS\n",
            "video 1/1 (296/331) /content/gdrive/MyDrive/YOLOFirst/yolov7/mountain-129241.mp4: Done. (19.1ms) Inference, (0.2ms) NMS\n",
            "video 1/1 (297/331) /content/gdrive/MyDrive/YOLOFirst/yolov7/mountain-129241.mp4: Done. (22.0ms) Inference, (0.2ms) NMS\n",
            "video 1/1 (298/331) /content/gdrive/MyDrive/YOLOFirst/yolov7/mountain-129241.mp4: Done. (19.3ms) Inference, (0.2ms) NMS\n",
            "video 1/1 (299/331) /content/gdrive/MyDrive/YOLOFirst/yolov7/mountain-129241.mp4: Done. (19.4ms) Inference, (0.2ms) NMS\n",
            "video 1/1 (300/331) /content/gdrive/MyDrive/YOLOFirst/yolov7/mountain-129241.mp4: Done. (19.1ms) Inference, (0.3ms) NMS\n",
            "video 1/1 (301/331) /content/gdrive/MyDrive/YOLOFirst/yolov7/mountain-129241.mp4: Done. (23.2ms) Inference, (0.3ms) NMS\n",
            "video 1/1 (302/331) /content/gdrive/MyDrive/YOLOFirst/yolov7/mountain-129241.mp4: Done. (18.8ms) Inference, (0.2ms) NMS\n",
            "video 1/1 (303/331) /content/gdrive/MyDrive/YOLOFirst/yolov7/mountain-129241.mp4: Done. (21.2ms) Inference, (0.3ms) NMS\n",
            "video 1/1 (304/331) /content/gdrive/MyDrive/YOLOFirst/yolov7/mountain-129241.mp4: Done. (21.1ms) Inference, (0.2ms) NMS\n",
            "video 1/1 (305/331) /content/gdrive/MyDrive/YOLOFirst/yolov7/mountain-129241.mp4: Done. (22.6ms) Inference, (0.3ms) NMS\n",
            "video 1/1 (306/331) /content/gdrive/MyDrive/YOLOFirst/yolov7/mountain-129241.mp4: Done. (21.0ms) Inference, (0.2ms) NMS\n",
            "video 1/1 (307/331) /content/gdrive/MyDrive/YOLOFirst/yolov7/mountain-129241.mp4: Done. (19.1ms) Inference, (0.2ms) NMS\n",
            "video 1/1 (308/331) /content/gdrive/MyDrive/YOLOFirst/yolov7/mountain-129241.mp4: Done. (21.8ms) Inference, (0.3ms) NMS\n",
            "video 1/1 (309/331) /content/gdrive/MyDrive/YOLOFirst/yolov7/mountain-129241.mp4: Done. (20.9ms) Inference, (0.3ms) NMS\n",
            "video 1/1 (310/331) /content/gdrive/MyDrive/YOLOFirst/yolov7/mountain-129241.mp4: Done. (19.3ms) Inference, (0.2ms) NMS\n",
            "video 1/1 (311/331) /content/gdrive/MyDrive/YOLOFirst/yolov7/mountain-129241.mp4: Done. (19.6ms) Inference, (0.2ms) NMS\n",
            "video 1/1 (312/331) /content/gdrive/MyDrive/YOLOFirst/yolov7/mountain-129241.mp4: Done. (18.7ms) Inference, (0.2ms) NMS\n",
            "video 1/1 (313/331) /content/gdrive/MyDrive/YOLOFirst/yolov7/mountain-129241.mp4: Done. (20.7ms) Inference, (0.3ms) NMS\n",
            "video 1/1 (314/331) /content/gdrive/MyDrive/YOLOFirst/yolov7/mountain-129241.mp4: Done. (19.1ms) Inference, (0.2ms) NMS\n",
            "video 1/1 (315/331) /content/gdrive/MyDrive/YOLOFirst/yolov7/mountain-129241.mp4: Done. (19.7ms) Inference, (0.2ms) NMS\n",
            "video 1/1 (316/331) /content/gdrive/MyDrive/YOLOFirst/yolov7/mountain-129241.mp4: Done. (19.6ms) Inference, (0.2ms) NMS\n",
            "video 1/1 (317/331) /content/gdrive/MyDrive/YOLOFirst/yolov7/mountain-129241.mp4: Done. (24.0ms) Inference, (0.2ms) NMS\n",
            "video 1/1 (318/331) /content/gdrive/MyDrive/YOLOFirst/yolov7/mountain-129241.mp4: Done. (19.3ms) Inference, (0.2ms) NMS\n",
            "video 1/1 (319/331) /content/gdrive/MyDrive/YOLOFirst/yolov7/mountain-129241.mp4: Done. (23.7ms) Inference, (0.2ms) NMS\n",
            "video 1/1 (320/331) /content/gdrive/MyDrive/YOLOFirst/yolov7/mountain-129241.mp4: Done. (19.6ms) Inference, (0.2ms) NMS\n",
            "video 1/1 (321/331) /content/gdrive/MyDrive/YOLOFirst/yolov7/mountain-129241.mp4: Done. (23.7ms) Inference, (0.3ms) NMS\n",
            "video 1/1 (322/331) /content/gdrive/MyDrive/YOLOFirst/yolov7/mountain-129241.mp4: Done. (21.9ms) Inference, (0.2ms) NMS\n",
            "video 1/1 (323/331) /content/gdrive/MyDrive/YOLOFirst/yolov7/mountain-129241.mp4: Done. (21.3ms) Inference, (0.2ms) NMS\n",
            "video 1/1 (324/331) /content/gdrive/MyDrive/YOLOFirst/yolov7/mountain-129241.mp4: Done. (20.0ms) Inference, (0.2ms) NMS\n",
            "video 1/1 (325/331) /content/gdrive/MyDrive/YOLOFirst/yolov7/mountain-129241.mp4: Done. (22.3ms) Inference, (0.3ms) NMS\n",
            "video 1/1 (326/331) /content/gdrive/MyDrive/YOLOFirst/yolov7/mountain-129241.mp4: Done. (21.1ms) Inference, (0.2ms) NMS\n",
            "video 1/1 (327/331) /content/gdrive/MyDrive/YOLOFirst/yolov7/mountain-129241.mp4: Done. (19.0ms) Inference, (0.2ms) NMS\n",
            "video 1/1 (328/331) /content/gdrive/MyDrive/YOLOFirst/yolov7/mountain-129241.mp4: Done. (20.6ms) Inference, (0.2ms) NMS\n",
            "video 1/1 (329/331) /content/gdrive/MyDrive/YOLOFirst/yolov7/mountain-129241.mp4: Done. (18.5ms) Inference, (0.2ms) NMS\n",
            "video 1/1 (330/331) /content/gdrive/MyDrive/YOLOFirst/yolov7/mountain-129241.mp4: Done. (18.6ms) Inference, (0.2ms) NMS\n",
            "video 1/1 (331/331) /content/gdrive/MyDrive/YOLOFirst/yolov7/mountain-129241.mp4: Done. (19.7ms) Inference, (0.2ms) NMS\n",
            "Done. (12.502s)\n"
          ]
        }
      ],
      "source": [
        "!python detect.py --weights runs/train/yolov7x-custom_data3/weights/best.pt --conf 0.5 --img-size 640 --source mountain-129241.mp4 --no-trace --save-txt"
      ]
    },
    {
      "cell_type": "code",
      "source": [],
      "metadata": {
        "id": "YIIXlh7-2KCt"
      },
      "execution_count": null,
      "outputs": []
    }
  ],
  "metadata": {
    "accelerator": "GPU",
    "colab": {
      "provenance": []
    },
    "gpuClass": "standard",
    "kernelspec": {
      "display_name": "Python 3",
      "name": "python3"
    },
    "language_info": {
      "name": "python"
    }
  },
  "nbformat": 4,
  "nbformat_minor": 0
}